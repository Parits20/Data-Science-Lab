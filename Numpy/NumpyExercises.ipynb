{
 "cells": [
  {
   "cell_type": "code",
   "execution_count": 1,
   "id": "886e3d78-3062-4be2-8f28-9082231d1092",
   "metadata": {},
   "outputs": [],
   "source": [
    "import numpy as np"
   ]
  },
  {
   "cell_type": "markdown",
   "id": "416c5995-338d-40b1-9548-5416f528c67e",
   "metadata": {},
   "source": [
    "#### Create an array of 10 zeros"
   ]
  },
  {
   "cell_type": "code",
   "execution_count": 2,
   "id": "ddda0ddc-c97a-4635-9cc0-d000e9bb3d6f",
   "metadata": {},
   "outputs": [
    {
     "data": {
      "text/plain": [
       "array([0., 0., 0., 0., 0., 0., 0., 0., 0., 0.])"
      ]
     },
     "execution_count": 2,
     "metadata": {},
     "output_type": "execute_result"
    }
   ],
   "source": [
    "np.zeros(10)"
   ]
  },
  {
   "cell_type": "markdown",
   "id": "e8505abf-3d72-4002-9c82-9599a9b8110a",
   "metadata": {},
   "source": [
    "#### Create an array of 10 ones"
   ]
  },
  {
   "cell_type": "code",
   "execution_count": 3,
   "id": "d44a696c-a46c-44ad-9783-b157443024e5",
   "metadata": {},
   "outputs": [
    {
     "data": {
      "text/plain": [
       "array([1., 1., 1., 1., 1., 1., 1., 1., 1., 1.])"
      ]
     },
     "execution_count": 3,
     "metadata": {},
     "output_type": "execute_result"
    }
   ],
   "source": [
    "np.ones(10)"
   ]
  },
  {
   "cell_type": "markdown",
   "id": "b686f67c-63b0-476a-8e2b-afc9bd2d7b7b",
   "metadata": {},
   "source": [
    "#### Create an arraay of 10 fives"
   ]
  },
  {
   "cell_type": "code",
   "execution_count": 4,
   "id": "a652d205-ba21-48e5-b7c7-42d76c342ff4",
   "metadata": {},
   "outputs": [
    {
     "data": {
      "text/plain": [
       "array([5., 5., 5., 5., 5., 5., 5., 5., 5., 5.])"
      ]
     },
     "execution_count": 4,
     "metadata": {},
     "output_type": "execute_result"
    }
   ],
   "source": [
    "np.ones(10)*5"
   ]
  },
  {
   "cell_type": "markdown",
   "id": "87930376-4b7a-4b36-b056-ecdcf86b5976",
   "metadata": {},
   "source": [
    "#### Create an array of integers from 10 to 50"
   ]
  },
  {
   "cell_type": "code",
   "execution_count": 5,
   "id": "a86fae76-7ec1-4c45-b20f-fc997a6a5905",
   "metadata": {},
   "outputs": [
    {
     "data": {
      "text/plain": [
       "array([10, 11, 12, 13, 14, 15, 16, 17, 18, 19, 20, 21, 22, 23, 24, 25, 26,\n",
       "       27, 28, 29, 30, 31, 32, 33, 34, 35, 36, 37, 38, 39, 40, 41, 42, 43,\n",
       "       44, 45, 46, 47, 48, 49, 50])"
      ]
     },
     "execution_count": 5,
     "metadata": {},
     "output_type": "execute_result"
    }
   ],
   "source": [
    "np.arange(10,51)"
   ]
  },
  {
   "cell_type": "markdown",
   "id": "88064d73-77a3-484a-9c8a-3543f85fe610",
   "metadata": {},
   "source": [
    "#### Create an array of even integers from 10 to 50"
   ]
  },
  {
   "cell_type": "code",
   "execution_count": 6,
   "id": "9c0eacd0-9a6b-441a-aa6f-4a824e33d26e",
   "metadata": {},
   "outputs": [
    {
     "data": {
      "text/plain": [
       "array([10, 12, 14, 16, 18, 20, 22, 24, 26, 28, 30, 32, 34, 36, 38, 40, 42,\n",
       "       44, 46, 48, 50])"
      ]
     },
     "execution_count": 6,
     "metadata": {},
     "output_type": "execute_result"
    }
   ],
   "source": [
    "np.arange(10,51,2)"
   ]
  },
  {
   "cell_type": "markdown",
   "id": "7e6c160e-4f51-4611-810c-dd756ed9b6ac",
   "metadata": {},
   "source": [
    "#### Create a 3x3 matrix with values ranging from 0 to 8"
   ]
  },
  {
   "cell_type": "code",
   "execution_count": 7,
   "id": "abf7bb34-0b5d-4204-98fe-16df81d564fc",
   "metadata": {},
   "outputs": [
    {
     "data": {
      "text/plain": [
       "array([[0, 1, 2],\n",
       "       [3, 4, 5],\n",
       "       [6, 7, 8]])"
      ]
     },
     "execution_count": 7,
     "metadata": {},
     "output_type": "execute_result"
    }
   ],
   "source": [
    "np.arange(9).reshape(3,3)"
   ]
  },
  {
   "cell_type": "markdown",
   "id": "a9805f74-470c-4055-a0c0-5e84b90f1448",
   "metadata": {},
   "source": [
    "#### Create 3x3 identity matrix"
   ]
  },
  {
   "cell_type": "code",
   "execution_count": 8,
   "id": "88ee29d5-5736-4545-9a5f-707a72ab7681",
   "metadata": {},
   "outputs": [
    {
     "data": {
      "text/plain": [
       "array([[1., 0., 0.],\n",
       "       [0., 1., 0.],\n",
       "       [0., 0., 1.]])"
      ]
     },
     "execution_count": 8,
     "metadata": {},
     "output_type": "execute_result"
    }
   ],
   "source": [
    "np.eye(3)"
   ]
  },
  {
   "cell_type": "markdown",
   "id": "18839993-a58d-454e-92ea-3f30b90b2c83",
   "metadata": {},
   "source": [
    "#### Use Numpy to generate a arandom number between 1 and 0"
   ]
  },
  {
   "cell_type": "code",
   "execution_count": 9,
   "id": "100c234d-fa36-45d9-a5c3-ca640fe2cd4b",
   "metadata": {},
   "outputs": [
    {
     "data": {
      "text/plain": [
       "array([0.89581495])"
      ]
     },
     "execution_count": 9,
     "metadata": {},
     "output_type": "execute_result"
    }
   ],
   "source": [
    "np.random.rand(1)"
   ]
  },
  {
   "cell_type": "markdown",
   "id": "292f8fd0-ee70-498c-a130-cf22a095a2f5",
   "metadata": {},
   "source": [
    "#### Use Numpy to generate an array of 25 random numbers sampled from standard normal distribution"
   ]
  },
  {
   "cell_type": "code",
   "execution_count": 10,
   "id": "a40eeb24-9ddd-45dd-a512-30fddec4888b",
   "metadata": {},
   "outputs": [
    {
     "data": {
      "text/plain": [
       "array([0.26348797, 0.63049736, 0.33837765, 0.81721058, 0.75086332,\n",
       "       0.11955068, 0.80384507, 0.50696377, 0.9068834 , 0.29655696,\n",
       "       0.50741528, 0.07069481, 0.73620637, 0.05026315, 0.89498581,\n",
       "       0.69656346, 0.93532942, 0.66299326, 0.3871439 , 0.05079916,\n",
       "       0.63266436, 0.91147424, 0.10224915, 0.29759281, 0.00550744])"
      ]
     },
     "execution_count": 10,
     "metadata": {},
     "output_type": "execute_result"
    }
   ],
   "source": [
    "np.random.rand(25)"
   ]
  },
  {
   "cell_type": "markdown",
   "id": "7f013b9e-a0eb-4beb-a5c8-e133a6b06249",
   "metadata": {},
   "source": [
    "#### Create matrix"
   ]
  },
  {
   "cell_type": "code",
   "execution_count": 11,
   "id": "a4a7060b-3637-4e4f-b213-2c5c46022e50",
   "metadata": {},
   "outputs": [
    {
     "data": {
      "text/plain": [
       "array([0.        , 0.11111111, 0.22222222, 0.33333333, 0.44444444,\n",
       "       0.55555556, 0.66666667, 0.77777778, 0.88888889, 1.        ])"
      ]
     },
     "execution_count": 11,
     "metadata": {},
     "output_type": "execute_result"
    }
   ],
   "source": [
    "np.linspace(0,1,10)\n",
    "#np.arange(1,101)/100"
   ]
  },
  {
   "cell_type": "markdown",
   "id": "ce52bc10-5815-4a10-b796-a59408db62a0",
   "metadata": {},
   "source": [
    "#### Create an array of 20 linearly spaced points between 0 and 1."
   ]
  },
  {
   "cell_type": "code",
   "execution_count": 12,
   "id": "69388c58-0c11-44e5-9514-c7144b620f5d",
   "metadata": {},
   "outputs": [
    {
     "data": {
      "text/plain": [
       "array([0.        , 0.05263158, 0.10526316, 0.15789474, 0.21052632,\n",
       "       0.26315789, 0.31578947, 0.36842105, 0.42105263, 0.47368421,\n",
       "       0.52631579, 0.57894737, 0.63157895, 0.68421053, 0.73684211,\n",
       "       0.78947368, 0.84210526, 0.89473684, 0.94736842, 1.        ])"
      ]
     },
     "execution_count": 12,
     "metadata": {},
     "output_type": "execute_result"
    }
   ],
   "source": [
    "np.linspace(0,1,20)"
   ]
  },
  {
   "cell_type": "code",
   "execution_count": 13,
   "id": "fc2c395e-f94d-414f-b96a-184ebd645e0e",
   "metadata": {},
   "outputs": [
    {
     "data": {
      "text/plain": [
       "array([[ 1,  2,  3,  4,  5],\n",
       "       [ 6,  7,  8,  9, 10],\n",
       "       [11, 12, 13, 14, 15],\n",
       "       [16, 17, 18, 19, 20],\n",
       "       [21, 22, 23, 24, 25]])"
      ]
     },
     "execution_count": 13,
     "metadata": {},
     "output_type": "execute_result"
    }
   ],
   "source": [
    "a = np.arange(1,26).reshape(5,5)\n",
    "a"
   ]
  },
  {
   "cell_type": "code",
   "execution_count": 14,
   "id": "afabf573-4b44-4e91-b70d-1f62525c6782",
   "metadata": {},
   "outputs": [
    {
     "data": {
      "text/plain": [
       "array([[12, 13, 14, 15],\n",
       "       [17, 18, 19, 20],\n",
       "       [22, 23, 24, 25]])"
      ]
     },
     "execution_count": 14,
     "metadata": {},
     "output_type": "execute_result"
    }
   ],
   "source": [
    "a[2:,1:]\n",
    "# First for row then comma then second for column"
   ]
  },
  {
   "cell_type": "code",
   "execution_count": 15,
   "id": "c6a8c678-3f23-4740-86ff-bad63f3de6f9",
   "metadata": {},
   "outputs": [
    {
     "data": {
      "text/plain": [
       "array([[ 8,  9, 10],\n",
       "       [13, 14, 15],\n",
       "       [18, 19, 20],\n",
       "       [23, 24, 25]])"
      ]
     },
     "execution_count": 15,
     "metadata": {},
     "output_type": "execute_result"
    }
   ],
   "source": [
    "a[1:,2:]"
   ]
  },
  {
   "cell_type": "code",
   "execution_count": 16,
   "id": "d6a87d48-233f-4006-8256-a9f49dcf2dbe",
   "metadata": {},
   "outputs": [
    {
     "data": {
      "text/plain": [
       "array([[20]])"
      ]
     },
     "execution_count": 16,
     "metadata": {},
     "output_type": "execute_result"
    }
   ],
   "source": [
    "a[3:4,4:]"
   ]
  },
  {
   "cell_type": "code",
   "execution_count": 17,
   "id": "1b2f4307-b8d2-448a-a443-4e62658f93f1",
   "metadata": {},
   "outputs": [
    {
     "data": {
      "text/plain": [
       "array([[ 2],\n",
       "       [ 7],\n",
       "       [12]])"
      ]
     },
     "execution_count": 17,
     "metadata": {},
     "output_type": "execute_result"
    }
   ],
   "source": [
    "a[0:3,1:2]"
   ]
  },
  {
   "cell_type": "code",
   "execution_count": 18,
   "id": "9b83a3ec-81e8-4ff6-a3a6-7a0824fd6784",
   "metadata": {},
   "outputs": [
    {
     "data": {
      "text/plain": [
       "11"
      ]
     },
     "execution_count": 18,
     "metadata": {},
     "output_type": "execute_result"
    }
   ],
   "source": [
    "a[2,0]"
   ]
  },
  {
   "cell_type": "code",
   "execution_count": 19,
   "id": "d26c98e3-89d7-4ca2-87f2-b6d9a40db59d",
   "metadata": {},
   "outputs": [
    {
     "data": {
      "text/plain": [
       "array([21, 22, 23, 24, 25])"
      ]
     },
     "execution_count": 19,
     "metadata": {},
     "output_type": "execute_result"
    }
   ],
   "source": [
    "a[4]"
   ]
  },
  {
   "cell_type": "code",
   "execution_count": 20,
   "id": "5243d3d4-a93a-4da8-9bc2-5603e91a1c1f",
   "metadata": {},
   "outputs": [
    {
     "data": {
      "text/plain": [
       "array([[16, 17, 18, 19, 20],\n",
       "       [21, 22, 23, 24, 25]])"
      ]
     },
     "execution_count": 20,
     "metadata": {},
     "output_type": "execute_result"
    }
   ],
   "source": [
    "a[3:]"
   ]
  },
  {
   "cell_type": "markdown",
   "id": "51045798-412a-4426-a73a-2686f00b4f21",
   "metadata": {},
   "source": [
    "#### Get the sum of all values in a"
   ]
  },
  {
   "cell_type": "code",
   "execution_count": 21,
   "id": "b3ad8b11-3ebc-4a5f-bf78-a6d0d0caf3fb",
   "metadata": {},
   "outputs": [
    {
     "data": {
      "text/plain": [
       "325"
      ]
     },
     "execution_count": 21,
     "metadata": {},
     "output_type": "execute_result"
    }
   ],
   "source": [
    "a.sum()"
   ]
  },
  {
   "cell_type": "markdown",
   "id": "b13dc7d8-d6c5-4d8d-9686-51610cf75bdf",
   "metadata": {},
   "source": [
    "#### Get the standard deviation of values in a"
   ]
  },
  {
   "cell_type": "code",
   "execution_count": 22,
   "id": "f9e4dec9-0c91-4ddb-9214-f5a02a7605a0",
   "metadata": {},
   "outputs": [
    {
     "data": {
      "text/plain": [
       "7.211102550927978"
      ]
     },
     "execution_count": 22,
     "metadata": {},
     "output_type": "execute_result"
    }
   ],
   "source": [
    "a.std()"
   ]
  },
  {
   "cell_type": "markdown",
   "id": "70384eba-b3fa-4ab5-b997-51bab3dc232e",
   "metadata": {},
   "source": [
    "#### Get the sum of all columns in a"
   ]
  },
  {
   "cell_type": "code",
   "execution_count": 23,
   "id": "1bd21445-0d4a-4403-b683-0c73df82cbf9",
   "metadata": {},
   "outputs": [
    {
     "data": {
      "text/plain": [
       "array([55, 60, 65, 70, 75])"
      ]
     },
     "execution_count": 23,
     "metadata": {},
     "output_type": "execute_result"
    }
   ],
   "source": [
    "a.sum(0)"
   ]
  },
  {
   "cell_type": "markdown",
   "id": "2226837b-e206-4a75-b164-447bc2329992",
   "metadata": {},
   "source": [
    "#### 1.Create 1D , 2D ,3D numpy array"
   ]
  },
  {
   "cell_type": "code",
   "execution_count": 24,
   "id": "903e0260-7531-4cc7-aa2b-d6cbbd57801c",
   "metadata": {},
   "outputs": [
    {
     "data": {
      "text/plain": [
       "array([ 1,  2,  3,  4,  5,  6,  7,  8,  9, 10])"
      ]
     },
     "execution_count": 24,
     "metadata": {},
     "output_type": "execute_result"
    }
   ],
   "source": [
    "a = np.arange(1,11)\n",
    "a"
   ]
  },
  {
   "cell_type": "code",
   "execution_count": 25,
   "id": "b128bf8e-11f3-4fbf-ba21-4210343d889d",
   "metadata": {},
   "outputs": [
    {
     "data": {
      "text/plain": [
       "array([[ 1,  2,  3,  4,  5],\n",
       "       [ 6,  7,  8,  9, 10]])"
      ]
     },
     "execution_count": 25,
     "metadata": {},
     "output_type": "execute_result"
    }
   ],
   "source": [
    "a = np.arange(1,11).reshape(2,5)\n",
    "a"
   ]
  },
  {
   "cell_type": "code",
   "execution_count": 26,
   "id": "ebb2bb30-fcb1-46f8-a4b5-59fa5bbaf9b3",
   "metadata": {},
   "outputs": [
    {
     "data": {
      "text/plain": [
       "array([[[ 1,  2],\n",
       "        [ 3,  4]],\n",
       "\n",
       "       [[ 5,  6],\n",
       "        [ 7,  8]],\n",
       "\n",
       "       [[ 9, 10],\n",
       "        [11, 12]]])"
      ]
     },
     "execution_count": 26,
     "metadata": {},
     "output_type": "execute_result"
    }
   ],
   "source": [
    "a = np.arange(1,13).reshape(3,2,2)\n",
    "a"
   ]
  },
  {
   "cell_type": "markdown",
   "id": "30aa8560-564d-4106-9b33-377629cd0731",
   "metadata": {},
   "source": [
    "#### Print Datatype of array"
   ]
  },
  {
   "cell_type": "code",
   "execution_count": 27,
   "id": "933edecd-0355-4bc0-846b-3ee87fec2cd3",
   "metadata": {},
   "outputs": [
    {
     "data": {
      "text/plain": [
       "dtype('int32')"
      ]
     },
     "execution_count": 27,
     "metadata": {},
     "output_type": "execute_result"
    }
   ],
   "source": [
    "a.dtype"
   ]
  },
  {
   "cell_type": "markdown",
   "id": "d1bfe661-1883-4e6f-92d4-357a9ec9156e",
   "metadata": {},
   "source": [
    "#### Print shape and dimensions of all three different array"
   ]
  },
  {
   "cell_type": "code",
   "execution_count": 31,
   "id": "34f7bea1-c32a-4196-bc9e-b1bd654d857a",
   "metadata": {},
   "outputs": [
    {
     "data": {
      "text/plain": [
       "array([0.        , 0.11111111, 0.22222222, 0.33333333, 0.44444444,\n",
       "       0.55555556, 0.66666667, 0.77777778, 0.88888889, 1.        ])"
      ]
     },
     "execution_count": 31,
     "metadata": {},
     "output_type": "execute_result"
    }
   ],
   "source": [
    "np.empty(10)\n"
   ]
  },
  {
   "cell_type": "markdown",
   "id": "eb23c64c-a988-408b-b9c4-b30a1843c049",
   "metadata": {},
   "source": [
    "#### Create another 1D array of 12 elements filled with 0"
   ]
  },
  {
   "cell_type": "code",
   "execution_count": 28,
   "id": "0786c182-14e6-4c6f-80a4-b4cfbd7e3fd1",
   "metadata": {},
   "outputs": [
    {
     "data": {
      "text/plain": [
       "array([0., 0., 0., 0., 0., 0., 0., 0., 0., 0., 0., 0.])"
      ]
     },
     "execution_count": 28,
     "metadata": {},
     "output_type": "execute_result"
    }
   ],
   "source": [
    "np.linspace(0,0,12)"
   ]
  },
  {
   "cell_type": "markdown",
   "id": "ed178839-648d-4b1a-a064-0644ef79f231",
   "metadata": {},
   "source": [
    "#### Create another 2D array elements filled with ones"
   ]
  },
  {
   "cell_type": "code",
   "execution_count": 170,
   "id": "486421c5-7a7b-4a36-9d2e-6cab2569bfda",
   "metadata": {},
   "outputs": [
    {
     "data": {
      "text/plain": [
       "array([[1., 1.],\n",
       "       [1., 1.]])"
      ]
     },
     "execution_count": 170,
     "metadata": {},
     "output_type": "execute_result"
    }
   ],
   "source": [
    "np.ones(4).reshape(2,2)"
   ]
  },
  {
   "cell_type": "markdown",
   "id": "9fe3b475-493e-4e3d-9194-e2d4e78d40b0",
   "metadata": {},
   "source": [
    "#### Create 1D array known as math marks out 0f 100 having 20 elements"
   ]
  },
  {
   "cell_type": "code",
   "execution_count": 7,
   "id": "9758fa2c-9d74-4299-9ae9-7388c761cdcc",
   "metadata": {},
   "outputs": [
    {
     "data": {
      "text/plain": [
       "array([57, 99, 70, 68,  7, 15, 97, 28, 74, 58, 42, 81, 39, 95,  6, 60, 34,\n",
       "       51, 32, 68])"
      ]
     },
     "execution_count": 7,
     "metadata": {},
     "output_type": "execute_result"
    }
   ],
   "source": [
    "b = np.random.randint(1,100,20)\n",
    "b"
   ]
  },
  {
   "cell_type": "markdown",
   "id": "f906d7b4-67c1-4d98-b4ca-70782a60f7ed",
   "metadata": {},
   "source": [
    "#### Sort above array created vertically and horizontally"
   ]
  },
  {
   "cell_type": "code",
   "execution_count": 11,
   "id": "861c94da-2489-4e37-957b-30bb2959a1ce",
   "metadata": {},
   "outputs": [
    {
     "data": {
      "text/plain": [
       "array([ 6,  7, 15, 28, 32, 34, 39, 42, 51, 57, 58, 60, 68, 68, 70, 74, 81,\n",
       "       95, 97, 99])"
      ]
     },
     "execution_count": 11,
     "metadata": {},
     "output_type": "execute_result"
    }
   ],
   "source": [
    "np.sort(b)"
   ]
  },
  {
   "cell_type": "code",
   "execution_count": 34,
   "id": "ccd8070e-6a9a-498b-8cb2-7c4cf3cf3ed5",
   "metadata": {},
   "outputs": [
    {
     "data": {
      "text/plain": [
       "RandomState(MT19937) at 0x2273B5B7440"
      ]
     },
     "execution_count": 34,
     "metadata": {},
     "output_type": "execute_result"
    }
   ],
   "source": [
    "rand = np.random.RandomState(42)\n",
    "rand\n"
   ]
  },
  {
   "cell_type": "markdown",
   "id": "8137dc9b-dce4-4e71-9faa-0510250ca9dc",
   "metadata": {},
   "source": [
    "#### Create copy of sorted array to another variable by deep copying."
   ]
  },
  {
   "cell_type": "code",
   "execution_count": null,
   "id": "742680dd-6b5d-42b5-9209-dfb8f9810e91",
   "metadata": {},
   "outputs": [],
   "source": []
  },
  {
   "cell_type": "markdown",
   "id": "cd47e1c7-d05e-41cc-82b7-5bb981b73da4",
   "metadata": {},
   "source": [
    "#### Create 2D array of 5x5 which is indentity matrix and then convert into 1D array "
   ]
  },
  {
   "cell_type": "code",
   "execution_count": 24,
   "id": "85bcc90b-7f8e-416a-beac-9da42710a42c",
   "metadata": {},
   "outputs": [
    {
     "data": {
      "text/plain": [
       "array([1., 0., 0., 0., 0., 0., 1., 0., 0., 0., 0., 0., 1., 0., 0., 0., 0.,\n",
       "       0., 1., 0., 0., 0., 0., 0., 1.])"
      ]
     },
     "execution_count": 24,
     "metadata": {},
     "output_type": "execute_result"
    }
   ],
   "source": [
    "a = np.eye(5).flatten()\n",
    "a"
   ]
  },
  {
   "cell_type": "code",
   "execution_count": 27,
   "id": "bab6b793-db37-4026-9f80-b475067bf583",
   "metadata": {},
   "outputs": [
    {
     "data": {
      "text/plain": [
       "array([1., 0., 0., 0., 0., 0., 1., 0., 0., 0., 0., 0., 1., 0., 0., 0., 0.,\n",
       "       0., 1., 0., 0., 0., 0., 0., 1.])"
      ]
     },
     "execution_count": 27,
     "metadata": {},
     "output_type": "execute_result"
    }
   ],
   "source": [
    "a = np.eye(5).reshape(25)\n",
    "a"
   ]
  },
  {
   "cell_type": "markdown",
   "id": "3904a3c0-6bfc-45f5-8969-18fbb069aa98",
   "metadata": {},
   "source": [
    "#### Create 2D array of 3x3.Add one more row to it."
   ]
  },
  {
   "cell_type": "code",
   "execution_count": 19,
   "id": "6867ef59-acab-46be-9944-f4da97f38056",
   "metadata": {},
   "outputs": [
    {
     "data": {
      "text/plain": [
       "array([[1, 2, 3],\n",
       "       [4, 5, 6],\n",
       "       [7, 8, 9]])"
      ]
     },
     "execution_count": 19,
     "metadata": {},
     "output_type": "execute_result"
    }
   ],
   "source": [
    "num = np.arange(1,10).reshape(3,3)\n",
    "num \n",
    "#vstack \n"
   ]
  },
  {
   "cell_type": "code",
   "execution_count": 30,
   "id": "874ef6e9-34e3-4283-82a0-969cac759663",
   "metadata": {},
   "outputs": [
    {
     "data": {
      "text/plain": [
       "array([[ 1,  2,  3],\n",
       "       [ 4,  5,  6],\n",
       "       [ 7,  8,  9],\n",
       "       [10, 11, 12]])"
      ]
     },
     "execution_count": 30,
     "metadata": {},
     "output_type": "execute_result"
    }
   ],
   "source": [
    "np.append(num, [[10,11,12]],axis = 0)"
   ]
  },
  {
   "cell_type": "markdown",
   "id": "c4624e60-d56a-4475-b3c6-bd55262bc92b",
   "metadata": {},
   "source": [
    "#### Split above array created vertically and horizontally"
   ]
  },
  {
   "cell_type": "code",
   "execution_count": 32,
   "id": "080a0707-5556-403a-b0fb-09d8ff569773",
   "metadata": {},
   "outputs": [
    {
     "data": {
      "text/plain": [
       "[array([[1],\n",
       "        [4],\n",
       "        [7]]),\n",
       " array([[2],\n",
       "        [5],\n",
       "        [8]]),\n",
       " array([[3],\n",
       "        [6],\n",
       "        [9]])]"
      ]
     },
     "execution_count": 32,
     "metadata": {},
     "output_type": "execute_result"
    }
   ],
   "source": [
    "np.hsplit(num,3)"
   ]
  },
  {
   "cell_type": "code",
   "execution_count": 33,
   "id": "c71ce536-0f36-48bc-a83d-437040df3773",
   "metadata": {},
   "outputs": [
    {
     "data": {
      "text/plain": [
       "[array([[1, 2, 3]]), array([[4, 5, 6]]), array([[7, 8, 9]])]"
      ]
     },
     "execution_count": 33,
     "metadata": {},
     "output_type": "execute_result"
    }
   ],
   "source": [
    "np.vsplit(num,3)"
   ]
  },
  {
   "cell_type": "markdown",
   "id": "c995c901-6a64-4270-8514-b46a0ff810c0",
   "metadata": {},
   "source": [
    "#### Create a 4x4 identity matrix. Add 4 to each element"
   ]
  },
  {
   "cell_type": "code",
   "execution_count": 34,
   "id": "9c7028ca-37af-43f0-b7dc-827b5331dbc3",
   "metadata": {},
   "outputs": [
    {
     "data": {
      "text/plain": [
       "array([[5., 4., 4., 4.],\n",
       "       [4., 5., 4., 4.],\n",
       "       [4., 4., 5., 4.],\n",
       "       [4., 4., 4., 5.]])"
      ]
     },
     "execution_count": 34,
     "metadata": {},
     "output_type": "execute_result"
    }
   ],
   "source": [
    "np.eye(4)+4"
   ]
  },
  {
   "cell_type": "markdown",
   "id": "5cd2d991-4bfa-41c1-baba-e32955ed2266",
   "metadata": {},
   "source": [
    "#### Create 1D array. Initialize with floating point values. Display its ceil,floor and round (with decimal)"
   ]
  },
  {
   "cell_type": "code",
   "execution_count": 38,
   "id": "5242738b-b148-457d-8dcd-da8ee467d012",
   "metadata": {},
   "outputs": [
    {
     "data": {
      "text/plain": [
       "array([0.52527117, 0.7062177 , 0.92269611])"
      ]
     },
     "execution_count": 38,
     "metadata": {},
     "output_type": "execute_result"
    }
   ],
   "source": [
    "arr = np.random.rand(3)\n",
    "arr"
   ]
  },
  {
   "cell_type": "code",
   "execution_count": 39,
   "id": "98e29101-260f-4df1-9165-a0310cb1797d",
   "metadata": {},
   "outputs": [
    {
     "data": {
      "text/plain": [
       "array([1., 1., 1.])"
      ]
     },
     "execution_count": 39,
     "metadata": {},
     "output_type": "execute_result"
    }
   ],
   "source": [
    "np.ceil(arr)"
   ]
  },
  {
   "cell_type": "code",
   "execution_count": 40,
   "id": "e8dcd4d0-d547-48a3-87f1-0e7e1c72950f",
   "metadata": {},
   "outputs": [
    {
     "data": {
      "text/plain": [
       "array([0., 0., 0.])"
      ]
     },
     "execution_count": 40,
     "metadata": {},
     "output_type": "execute_result"
    }
   ],
   "source": [
    "np.floor(arr)"
   ]
  },
  {
   "cell_type": "code",
   "execution_count": 41,
   "id": "0727159e-014b-46d5-9a04-3f49d77df4d5",
   "metadata": {},
   "outputs": [
    {
     "data": {
      "text/plain": [
       "array([1., 1., 1.])"
      ]
     },
     "execution_count": 41,
     "metadata": {},
     "output_type": "execute_result"
    }
   ],
   "source": [
    "np.round(arr)"
   ]
  },
  {
   "cell_type": "markdown",
   "id": "a8bc4c05-d743-4291-9d6b-8550430624b6",
   "metadata": {},
   "source": [
    "#### Create 5x5 matrix. Display min , max , variance and standard deviation column-wise"
   ]
  },
  {
   "cell_type": "code",
   "execution_count": 43,
   "id": "43ea516f-c2c2-4b0e-907f-ed4ee9ce2e14",
   "metadata": {},
   "outputs": [
    {
     "data": {
      "text/plain": [
       "array([[ 1,  2,  3,  4,  5],\n",
       "       [ 6,  7,  8,  9, 10],\n",
       "       [11, 12, 13, 14, 15],\n",
       "       [16, 17, 18, 19, 20],\n",
       "       [21, 22, 23, 24, 25]])"
      ]
     },
     "execution_count": 43,
     "metadata": {},
     "output_type": "execute_result"
    }
   ],
   "source": [
    "arr1 = np.arange(1,26).reshape(5,5)\n",
    "arr1"
   ]
  },
  {
   "cell_type": "code",
   "execution_count": 103,
   "id": "d7bd7333-617a-4e35-b2b1-6b532d264878",
   "metadata": {},
   "outputs": [
    {
     "data": {
      "text/plain": [
       "array([21, 22, 23, 24, 25])"
      ]
     },
     "execution_count": 103,
     "metadata": {},
     "output_type": "execute_result"
    }
   ],
   "source": [
    "np.max(arr1,axis=0)"
   ]
  },
  {
   "cell_type": "code",
   "execution_count": 47,
   "id": "e152d034-d8fa-44fd-8682-2eed102c8380",
   "metadata": {},
   "outputs": [
    {
     "data": {
      "text/plain": [
       "array([1, 2, 3, 4, 5])"
      ]
     },
     "execution_count": 47,
     "metadata": {},
     "output_type": "execute_result"
    }
   ],
   "source": [
    "np.min(arr1,axis=0)"
   ]
  },
  {
   "cell_type": "code",
   "execution_count": 48,
   "id": "e8fb07fb-f4dc-4059-8964-4851259b0daa",
   "metadata": {},
   "outputs": [
    {
     "data": {
      "text/plain": [
       "array([50., 50., 50., 50., 50.])"
      ]
     },
     "execution_count": 48,
     "metadata": {},
     "output_type": "execute_result"
    }
   ],
   "source": [
    "np.var(arr1,axis=0)"
   ]
  },
  {
   "cell_type": "code",
   "execution_count": 49,
   "id": "85b28b79-fbe3-4bc3-a30f-dbdf0354bf8d",
   "metadata": {},
   "outputs": [
    {
     "data": {
      "text/plain": [
       "array([7.07106781, 7.07106781, 7.07106781, 7.07106781, 7.07106781])"
      ]
     },
     "execution_count": 49,
     "metadata": {},
     "output_type": "execute_result"
    }
   ],
   "source": [
    "np.std(arr1,axis=0)"
   ]
  },
  {
   "cell_type": "markdown",
   "id": "4bc2eb20-63c2-4cf9-aa51-ecb3954a42a4",
   "metadata": {},
   "source": [
    "#### Create a null vector of size 10 with 6th value filled with 200"
   ]
  },
  {
   "cell_type": "code",
   "execution_count": 56,
   "id": "ed1812fc-77d1-4764-9ee0-677e4e96c018",
   "metadata": {},
   "outputs": [
    {
     "data": {
      "text/plain": [
       "array([  0.,   0.,   0.,   0.,   0., 200.,   0.,   0.,   0.,   0.])"
      ]
     },
     "execution_count": 56,
     "metadata": {},
     "output_type": "execute_result"
    }
   ],
   "source": [
    "vector = np.zeros(10)\n",
    "vector[5] = 200\n",
    "vector"
   ]
  },
  {
   "cell_type": "markdown",
   "id": "a7588e0c-64cb-46ae-96ca-e569dc8f2cb8",
   "metadata": {},
   "source": [
    "#### Create a 1D array/vector with values ranging from 100 to 150 in sequence."
   ]
  },
  {
   "cell_type": "code",
   "execution_count": 64,
   "id": "c7539572-b715-48ae-9a27-78aef8bcbba9",
   "metadata": {},
   "outputs": [
    {
     "data": {
      "text/plain": [
       "array([100, 101, 102, 103, 104, 105, 106, 107, 108, 109, 110, 111, 112,\n",
       "       113, 114, 115, 116, 117, 118, 119, 120, 121, 122, 123, 124, 125,\n",
       "       126, 127, 128, 129, 130, 131, 132, 133, 134, 135, 136, 137, 138,\n",
       "       139, 140, 141, 142, 143, 144, 145, 146, 147, 148, 149, 150])"
      ]
     },
     "execution_count": 64,
     "metadata": {},
     "output_type": "execute_result"
    }
   ],
   "source": [
    "Darray = np.arange(100,151)\n",
    "Darray"
   ]
  },
  {
   "cell_type": "markdown",
   "id": "bf3ae253-1153-4ed6-b0ef-25840ee45775",
   "metadata": {},
   "source": [
    "#### Reverse above vector"
   ]
  },
  {
   "cell_type": "code",
   "execution_count": 65,
   "id": "bd991096-9d91-47f9-81f4-26de348d7d8d",
   "metadata": {},
   "outputs": [
    {
     "data": {
      "text/plain": [
       "array([150, 149, 148, 147, 146, 145, 144, 143, 142, 141, 140, 139, 138,\n",
       "       137, 136, 135, 134, 133, 132, 131, 130, 129, 128, 127, 126, 125,\n",
       "       124, 123, 122, 121, 120, 119, 118, 117, 116, 115, 114, 113, 112,\n",
       "       111, 110, 109, 108, 107, 106, 105, 104, 103, 102, 101, 100])"
      ]
     },
     "execution_count": 65,
     "metadata": {},
     "output_type": "execute_result"
    }
   ],
   "source": [
    "Darray[::-1]"
   ]
  },
  {
   "cell_type": "markdown",
   "id": "dd04d658-2c27-4c5c-99a4-f7c5a07d1ef2",
   "metadata": {},
   "source": [
    "#### Create 5x5 matrix with values ranging from 0-24 using some function"
   ]
  },
  {
   "cell_type": "code",
   "execution_count": 67,
   "id": "39b00af7-e8e4-4575-99e6-d957a3b05bf6",
   "metadata": {},
   "outputs": [
    {
     "data": {
      "text/plain": [
       "array([[ 0,  1,  2,  3,  4],\n",
       "       [ 5,  6,  7,  8,  9],\n",
       "       [10, 11, 12, 13, 14],\n",
       "       [15, 16, 17, 18, 19],\n",
       "       [20, 21, 22, 23, 24]])"
      ]
     },
     "execution_count": 67,
     "metadata": {},
     "output_type": "execute_result"
    }
   ],
   "source": [
    "Fivearr = np.arange(0,25).reshape(5,5)\n",
    "Fivearr"
   ]
  },
  {
   "cell_type": "markdown",
   "id": "934946c8-7eda-4cf4-a464-7759567c0a21",
   "metadata": {},
   "source": [
    "#### Find indices of nonzero elements from [1,0,2,0,0,4,0,8]"
   ]
  },
  {
   "cell_type": "code",
   "execution_count": 73,
   "id": "6d1a2704-ec4d-4740-aece-f517ddea0b20",
   "metadata": {},
   "outputs": [
    {
     "name": "stdout",
     "output_type": "stream",
     "text": [
      "(array([0, 2, 5, 7], dtype=int64),)\n"
     ]
    }
   ],
   "source": [
    "arr = np.array([1,0,2,0,0,4,0,8])\n",
    "arr2 = np.where(arr != 0)\n",
    "print(arr2)"
   ]
  },
  {
   "cell_type": "markdown",
   "id": "fe8bd11b-14ca-4e6a-acb8-ddbdba66f67f",
   "metadata": {},
   "source": [
    "#### Create 10x10 matrix with 1 on borders and 0 inside"
   ]
  },
  {
   "cell_type": "code",
   "execution_count": 6,
   "id": "1ce0b4b5-a185-456d-a36f-eb9e84d999cd",
   "metadata": {},
   "outputs": [
    {
     "data": {
      "text/plain": [
       "array([[1., 1., 1., 1., 1., 1., 1., 1., 1., 1.],\n",
       "       [1., 0., 0., 0., 0., 0., 0., 0., 0., 1.],\n",
       "       [1., 0., 0., 0., 0., 0., 0., 0., 0., 1.],\n",
       "       [1., 0., 0., 0., 0., 0., 0., 0., 0., 1.],\n",
       "       [1., 0., 0., 0., 0., 0., 0., 0., 0., 1.],\n",
       "       [1., 0., 0., 0., 0., 0., 0., 0., 0., 1.],\n",
       "       [1., 0., 0., 0., 0., 0., 0., 0., 0., 1.],\n",
       "       [1., 0., 0., 0., 0., 0., 0., 0., 0., 1.],\n",
       "       [1., 0., 0., 0., 0., 0., 0., 0., 0., 1.],\n",
       "       [1., 1., 1., 1., 1., 1., 1., 1., 1., 1.]])"
      ]
     },
     "execution_count": 6,
     "metadata": {},
     "output_type": "execute_result"
    }
   ],
   "source": [
    "ones = np.ones(100).reshape(10,10)\n",
    "ones[1:-1,1:-1] = 0\n",
    "ones.dtype\n",
    "ones"
   ]
  },
  {
   "cell_type": "markdown",
   "id": "d905c63d-efb4-4597-b7f4-39d7a9b16f1b",
   "metadata": {},
   "source": [
    "#### Create 8x8 matrix and fill with 1 and 0 in checkboard pattern"
   ]
  },
  {
   "cell_type": "code",
   "execution_count": 106,
   "id": "68c49f88-3b31-40d4-8d0f-b0090113696e",
   "metadata": {},
   "outputs": [
    {
     "data": {
      "text/plain": [
       "array([[0., 1., 0., 1., 0., 1., 0., 1.],\n",
       "       [1., 0., 1., 0., 1., 0., 1., 0.],\n",
       "       [0., 1., 0., 1., 0., 1., 0., 1.],\n",
       "       [1., 0., 1., 0., 1., 0., 1., 0.],\n",
       "       [0., 1., 0., 1., 0., 1., 0., 1.],\n",
       "       [1., 0., 1., 0., 1., 0., 1., 0.],\n",
       "       [0., 1., 0., 1., 0., 1., 0., 1.],\n",
       "       [1., 0., 1., 0., 1., 0., 1., 0.]])"
      ]
     },
     "execution_count": 106,
     "metadata": {},
     "output_type": "execute_result"
    }
   ],
   "source": [
    "matrix = np.ones(64).reshape(8,8)\n",
    "matrix[0::2,::2] = 0\n",
    "matrix[1::2,1::2] = 0\n",
    "matrix"
   ]
  },
  {
   "cell_type": "markdown",
   "id": "796f9846-76a6-4e98-86bb-00ea0a98fd5d",
   "metadata": {},
   "source": [
    "#### Create two 3x3 matrix with random integer values.Perform matrix addition , multiplication and subtraction"
   ]
  },
  {
   "cell_type": "code",
   "execution_count": 100,
   "id": "72db30ee-8131-4ef5-ba75-e579eb8a6ebe",
   "metadata": {},
   "outputs": [
    {
     "data": {
      "text/plain": [
       "array([[2, 1, 1],\n",
       "       [1, 1, 1],\n",
       "       [1, 8, 2]])"
      ]
     },
     "execution_count": 100,
     "metadata": {},
     "output_type": "execute_result"
    }
   ],
   "source": [
    "mat1 = np.random.randint(1,10,(3,3))\n",
    "mat1\n",
    "mat2 = np.random.randint(1,10,(3,3))\n",
    "mat1\n",
    "mat2"
   ]
  },
  {
   "cell_type": "code",
   "execution_count": 48,
   "id": "f56d8090-dde5-4cd9-b9cd-198ae1dc5bb8",
   "metadata": {},
   "outputs": [
    {
     "data": {
      "text/plain": [
       "array([[9, 7, 6],\n",
       "       [8, 3, 0],\n",
       "       [7, 1, 7]])"
      ]
     },
     "execution_count": 48,
     "metadata": {},
     "output_type": "execute_result"
    }
   ],
   "source": [
    "## matrix of random values and find index of non-zeero values\n",
    "arr = np.random.randint(0,10,(3,3))\n",
    "arr\n"
   ]
  },
  {
   "cell_type": "code",
   "execution_count": 47,
   "id": "5381e9cd-092f-4df0-aee7-95d9efb4c1a2",
   "metadata": {},
   "outputs": [
    {
     "data": {
      "text/plain": [
       "(array([0, 0, 0, 1, 1, 1, 2, 2, 2], dtype=int64),\n",
       " array([0, 1, 2, 0, 1, 2, 0, 1, 2], dtype=int64))"
      ]
     },
     "execution_count": 47,
     "metadata": {},
     "output_type": "execute_result"
    }
   ],
   "source": [
    "arr2 = np.where(arr != 0)\n",
    "arr2"
   ]
  },
  {
   "cell_type": "code",
   "execution_count": 54,
   "id": "41c3d2aa-2724-46f9-a6d8-f927fd375cf5",
   "metadata": {},
   "outputs": [
    {
     "name": "stdout",
     "output_type": "stream",
     "text": [
      "[[        nan         nan         nan         nan         nan]\n",
      " [        nan -0.45575556  0.71976386  0.78463571         nan]\n",
      " [        nan  0.40058425 -0.79165597 -0.15346029         nan]\n",
      " [        nan  0.11616801 -0.88819008  0.7227023          nan]\n",
      " [        nan         nan         nan         nan         nan]]\n"
     ]
    }
   ],
   "source": [
    "arr3 = np.random.randn(25).reshape(5,5)\n",
    "arr3[:,[0,-1]] = np.nan\n",
    "arr3[[0,-1],:] = np.nan\n",
    "print(arr3)\n"
   ]
  },
  {
   "cell_type": "code",
   "execution_count": 55,
   "id": "bd10481d-15fb-44f2-9e37-8a9d38363a69",
   "metadata": {},
   "outputs": [
    {
     "data": {
      "text/plain": [
       "(array([0, 0, 0, 0, 0, 1, 1, 1, 1, 1, 2, 2, 2, 2, 2, 3, 3, 3, 3, 3, 4, 4,\n",
       "        4, 4, 4], dtype=int64),\n",
       " array([0, 1, 2, 3, 4, 0, 1, 2, 3, 4, 0, 1, 2, 3, 4, 0, 1, 2, 3, 4, 0, 1,\n",
       "        2, 3, 4], dtype=int64))"
      ]
     },
     "execution_count": 55,
     "metadata": {},
     "output_type": "execute_result"
    }
   ],
   "source": [
    "arr4 = np.where(arr3 != 0)\n",
    "arr4"
   ]
  },
  {
   "cell_type": "code",
   "execution_count": null,
   "id": "abf60c82-c4fb-4978-84a6-1a86ac6d742c",
   "metadata": {},
   "outputs": [],
   "source": []
  }
 ],
 "metadata": {
  "kernelspec": {
   "display_name": "Python 3 (ipykernel)",
   "language": "python",
   "name": "python3"
  },
  "language_info": {
   "codemirror_mode": {
    "name": "ipython",
    "version": 3
   },
   "file_extension": ".py",
   "mimetype": "text/x-python",
   "name": "python",
   "nbconvert_exporter": "python",
   "pygments_lexer": "ipython3",
   "version": "3.11.4"
  }
 },
 "nbformat": 4,
 "nbformat_minor": 5
}
